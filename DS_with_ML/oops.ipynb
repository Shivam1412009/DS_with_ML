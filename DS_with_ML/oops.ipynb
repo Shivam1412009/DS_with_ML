{
 "cells": [
  {
   "cell_type": "code",
   "execution_count": 1,
   "metadata": {},
   "outputs": [
    {
     "name": "stdout",
     "output_type": "stream",
     "text": [
      "5\n"
     ]
    }
   ],
   "source": [
    "class myclass:\n",
    "    x=5 \n",
    "p1=myclass\n",
    "print(p1.x)"
   ]
  },
  {
   "cell_type": "code",
   "execution_count": 5,
   "metadata": {},
   "outputs": [
    {
     "name": "stdout",
     "output_type": "stream",
     "text": [
      "Hello world my name is chaman\n"
     ]
    }
   ],
   "source": [
    "class person:\n",
    "    name=input()\n",
    "    def greetings(self):\n",
    "        print(\"Hello world my name is\",self.name)\n",
    "        \n",
    "p=person\n",
    "person.greetings(p)"
   ]
  },
  {
   "cell_type": "code",
   "execution_count": 7,
   "metadata": {},
   "outputs": [
    {
     "name": "stdout",
     "output_type": "stream",
     "text": [
      "object created\n"
     ]
    }
   ],
   "source": [
    "class person:\n",
    "    def __init__(self):\n",
    "        print(\"object created\")\n",
    "        \n",
    "p=person\n",
    "person.__init__(p)"
   ]
  },
  {
   "cell_type": "code",
   "execution_count": 1,
   "metadata": {},
   "outputs": [
    {
     "name": "stdout",
     "output_type": "stream",
     "text": [
      "<class 'type'>\n"
     ]
    }
   ],
   "source": [
    "x=int\n",
    "print(type(x))"
   ]
  },
  {
   "cell_type": "code",
   "execution_count": 4,
   "metadata": {},
   "outputs": [
    {
     "data": {
      "text/plain": [
       "97"
      ]
     },
     "execution_count": 4,
     "metadata": {},
     "output_type": "execute_result"
    }
   ],
   "source": [
    "ord(\"a\")"
   ]
  },
  {
   "cell_type": "markdown",
   "metadata": {},
   "source": [
    "#### **Dunders or Magic methods**"
   ]
  },
  {
   "cell_type": "code",
   "execution_count": 11,
   "metadata": {},
   "outputs": [
    {
     "data": {
      "text/plain": [
       "False"
      ]
     },
     "execution_count": 11,
     "metadata": {},
     "output_type": "execute_result"
    }
   ],
   "source": [
    "class car:\n",
    "    def __init__(self,model,mielage):\n",
    "        self.model=model\n",
    "        self.mileage=mielage\n",
    "    \n",
    "    def __str__(self):\n",
    "        return \" {} {}\".format(self.model,self.mileage)\n",
    "    \n",
    "    def __repr__(self):\n",
    "        return \"{}\".format(self.model)\n",
    "    \n",
    "    def __eq__(self, other):\n",
    "        return self.mileage==other.mileage\n",
    "    \n",
    "    def __add__(self,other):\n",
    "        return self.mileage+other.mileage\n",
    "    \n",
    "c1=car(\"a\",2)\n",
    "c2=car(\"b\",3)\n",
    "#c1+c2\n",
    "c1==c2\n"
   ]
  },
  {
   "cell_type": "code",
   "execution_count": 14,
   "metadata": {},
   "outputs": [
    {
     "name": "stdout",
     "output_type": "stream",
     "text": [
      "hello world"
     ]
    },
    {
     "data": {
      "text/plain": [
       "<__main__.Ostream at 0x1f163643e30>"
      ]
     },
     "execution_count": 14,
     "metadata": {},
     "output_type": "execute_result"
    }
   ],
   "source": [
    "class Ostream:\n",
    "    def __lshift__(self,other):\n",
    "        print(other,end ='')\n",
    "        return self\n",
    "\n",
    "cout=Ostream()\n",
    "cout<<\"hello world\""
   ]
  },
  {
   "cell_type": "code",
   "execution_count": 41,
   "metadata": {},
   "outputs": [
    {
     "data": {
      "text/plain": [
       "['fetch', 'talk']"
      ]
     },
     "execution_count": 41,
     "metadata": {},
     "output_type": "execute_result"
    }
   ],
   "source": [
    "class dog:\n",
    "    kind=\"canine\"\n",
    "    tricks=[]\n",
    "    def __init__(self,name):\n",
    "        self.name=name\n",
    "        \n",
    "    def add_trick(self,trick):\n",
    "        self.tricks.append(trick)\n",
    "\n",
    "a=dog(\"tommy\")\n",
    "a.kind\n",
    "\n",
    "a.add_trick(\"fetch\")\n",
    "a.add_trick(\"talk\")\n",
    "a.tricks"
   ]
  },
  {
   "cell_type": "code",
   "execution_count": 33,
   "metadata": {},
   "outputs": [
    {
     "data": {
      "text/plain": [
       "'bulldog'"
      ]
     },
     "execution_count": 33,
     "metadata": {},
     "output_type": "execute_result"
    }
   ],
   "source": [
    "b=dog(\"maxx\")\n",
    "b.kind=\"bulldog\"\n",
    "b.kind\n"
   ]
  },
  {
   "cell_type": "code",
   "execution_count": 34,
   "metadata": {},
   "outputs": [],
   "source": [
    "a=dog(\"German shephard\")"
   ]
  },
  {
   "cell_type": "markdown",
   "metadata": {},
   "source": [
    "### **Inheritance**"
   ]
  },
  {
   "cell_type": "code",
   "execution_count": 1,
   "metadata": {},
   "outputs": [
    {
     "name": "stdout",
     "output_type": "stream",
     "text": [
      "Initialized School Member: Mr. Chaman\n",
      "Initialized Teacher: Mr. Chaman\n",
      "Initialized School Member: Mr. Baman\n",
      "Initialized Student: Mr. Baman\n",
      "Name: \"Mr. Chaman\" Age: \"45\"\n",
      "Salary: 40000\n",
      "Name: \"Mr. Baman\" Age: \"25\"\n",
      "Marks: 40\n"
     ]
    }
   ],
   "source": [
    "class SchoolMember:\n",
    "    def __init__(self, name, age):\n",
    "        self.name = name\n",
    "        self.age = age\n",
    "        print(\"Initialized School Member: {}\".format(self.name))\n",
    "    \n",
    "    def tell(self):\n",
    "        print('Name: \"{}\" Age: \"{}\"'.format(self.name, self.age))\n",
    "        \n",
    "class Teacher(SchoolMember):\n",
    "    def __init__(self, name, age, salary):\n",
    "        super().__init__(name, age)\n",
    "        self.salary = salary\n",
    "        print(\"Initialized Teacher: {}\".format(self.name))\n",
    "            \n",
    "    def tell(self):\n",
    "        super().tell()\n",
    "        print(\"Salary: {:d}\".format(self.salary))\n",
    "            \n",
    "class Student(SchoolMember):\n",
    "    def __init__(self, name, age, marks):\n",
    "        super().__init__(name, age)\n",
    "        self.marks = marks\n",
    "        print(\"Initialized Student: {}\".format(self.name))\n",
    "     \n",
    "    def tell(self):\n",
    "        super().tell()\n",
    "        print(\"Marks: {:d}\".format(self.marks))\n",
    "\n",
    "t = Teacher(\"Mr. Chaman\", 45, 40000)\n",
    "s = Student(\"Mr. Baman\", 25, 40)\n",
    "\n",
    "t.tell()\n",
    "s.tell()\n"
   ]
  },
  {
   "cell_type": "markdown",
   "metadata": {},
   "source": [
    "### ****multiple inheritance or diamond problem in python****"
   ]
  },
  {
   "cell_type": "code",
   "execution_count": 7,
   "metadata": {},
   "outputs": [
    {
     "data": {
      "text/plain": [
       "10"
      ]
     },
     "execution_count": 7,
     "metadata": {},
     "output_type": "execute_result"
    }
   ],
   "source": [
    "class A:\n",
    "    x=5\n",
    "\n",
    "class B(A):\n",
    "    pass\n",
    "\n",
    "class C(A):\n",
    "    pass\n",
    "\n",
    "class D(C):\n",
    "    x=10\n",
    "    \n",
    "class E(B,D):\n",
    "    pass\n",
    "\n",
    "E.x\n"
   ]
  },
  {
   "cell_type": "markdown",
   "metadata": {},
   "source": [
    "##### **method/sequence oF MRO in above**"
   ]
  },
  {
   "cell_type": "code",
   "execution_count": 6,
   "metadata": {},
   "outputs": [
    {
     "data": {
      "text/plain": [
       "(__main__.E, __main__.B, __main__.D, __main__.C, __main__.A, object)"
      ]
     },
     "execution_count": 6,
     "metadata": {},
     "output_type": "execute_result"
    }
   ],
   "source": [
    "E.__mro__"
   ]
  },
  {
   "cell_type": "code",
   "execution_count": null,
   "metadata": {},
   "outputs": [],
   "source": []
  }
 ],
 "metadata": {
  "kernelspec": {
   "display_name": "Python 3",
   "language": "python",
   "name": "python3"
  },
  "language_info": {
   "codemirror_mode": {
    "name": "ipython",
    "version": 3
   },
   "file_extension": ".py",
   "mimetype": "text/x-python",
   "name": "python",
   "nbconvert_exporter": "python",
   "pygments_lexer": "ipython3",
   "version": "3.12.0"
  }
 },
 "nbformat": 4,
 "nbformat_minor": 2
}
