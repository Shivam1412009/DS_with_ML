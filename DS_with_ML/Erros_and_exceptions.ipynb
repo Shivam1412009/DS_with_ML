{
 "cells": [
  {
   "cell_type": "code",
   "execution_count": 8,
   "metadata": {},
   "outputs": [
    {
     "name": "stdout",
     "output_type": "stream",
     "text": [
      "dividing by zero huhh\n"
     ]
    }
   ],
   "source": [
    "def divide():\n",
    "    a=int(input(\"Enter numerator\"))\n",
    "    b=int(input(\"Enter denominator\"))\n",
    "    try:\n",
    "            return a/b\n",
    "    except(ZeroDivisionError):\n",
    "        print(\"dividing by zero huhh\")\n",
    "\n",
    "divide()"
   ]
  },
  {
   "cell_type": "code",
   "execution_count": 10,
   "metadata": {},
   "outputs": [
    {
     "name": "stdout",
     "output_type": "stream",
     "text": [
      "dividing by zero huhh\n"
     ]
    }
   ],
   "source": [
    "try:\n",
    "    #b=10/0\n",
    "    a=int(\"shivam\")  \n",
    "except ZeroDivisionError:\n",
    "    print(\"dividing by zero huhh\")\n",
    "except ValueError:\n",
    "    print(\"value error occured\")"
   ]
  },
  {
   "cell_type": "code",
   "execution_count": 11,
   "metadata": {},
   "outputs": [
    {
     "name": "stdout",
     "output_type": "stream",
     "text": [
      "division by zero\n"
     ]
    }
   ],
   "source": [
    "try:\n",
    "    print(10/0)\n",
    "except Exception as e:\n",
    "    print(str(e))"
   ]
  },
  {
   "cell_type": "markdown",
   "metadata": {},
   "source": [
    "#### **custom exceptions**\n",
    "- raise\n",
    "- else\n",
    "- finally"
   ]
  },
  {
   "cell_type": "code",
   "execution_count": 4,
   "metadata": {},
   "outputs": [
    {
     "name": "stdout",
     "output_type": "stream",
     "text": [
      "('Error occured', 1, 2)\n"
     ]
    }
   ],
   "source": [
    "try:\n",
    "    raise Exception(\"Error occured\",1,2)\n",
    "\n",
    "except Exception as e:\n",
    "    print(e.args)"
   ]
  },
  {
   "cell_type": "code",
   "execution_count": 16,
   "metadata": {},
   "outputs": [
    {
     "name": "stdout",
     "output_type": "stream",
     "text": [
      "some error\n"
     ]
    }
   ],
   "source": [
    "class myexception(BaseException):\n",
    "    def __init__(self,message):\n",
    "        self.message=message\n",
    "    def __str__(self):\n",
    "        return self.message\n",
    "    \n",
    "try:\n",
    "    raise myexception(\"some error\")\n",
    "except myexception as e:\n",
    "    print(e.message)"
   ]
  },
  {
   "cell_type": "code",
   "execution_count": null,
   "metadata": {},
   "outputs": [],
   "source": []
  }
 ],
 "metadata": {
  "kernelspec": {
   "display_name": "Python 3",
   "language": "python",
   "name": "python3"
  },
  "language_info": {
   "codemirror_mode": {
    "name": "ipython",
    "version": 3
   },
   "file_extension": ".py",
   "mimetype": "text/x-python",
   "name": "python",
   "nbconvert_exporter": "python",
   "pygments_lexer": "ipython3",
   "version": "3.12.0"
  }
 },
 "nbformat": 4,
 "nbformat_minor": 2
}
