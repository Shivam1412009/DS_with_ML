{
 "cells": [
  {
   "cell_type": "code",
   "execution_count": 8,
   "metadata": {},
   "outputs": [
    {
     "name": "stdout",
     "output_type": "stream",
     "text": [
      "a  =  alpha\n",
      "b  =  beta\n",
      "o  =  omega\n"
     ]
    }
   ],
   "source": [
    "value={\n",
    "    \"a\":\"alpha\",\n",
    "    \"b\":\"beta\",\n",
    "    \"o\":\"omega\"\n",
    "}\n",
    "\n",
    "for key,value in value.items():\n",
    "    print(key ,\" = \",value)"
   ]
  },
  {
   "cell_type": "code",
   "execution_count": 12,
   "metadata": {},
   "outputs": [
    {
     "data": {
      "text/plain": [
       "[{'name': 'chanan', 'roll': 56, 'course': 'bca'},\n",
       " {'name': 'manan', 'roll': 57, 'course': 'bca'}]"
      ]
     },
     "execution_count": 12,
     "metadata": {},
     "output_type": "execute_result"
    }
   ],
   "source": [
    "students=[]\n",
    "n=int(input())\n",
    "\n",
    "for _ in range(n):\n",
    "    name=input()\n",
    "    roll=int(input())\n",
    "    course=input()\n",
    "    students.append({\n",
    "        \"name\":name,\n",
    "        \"roll\":roll,\n",
    "        \"course\":course\n",
    "    })\n",
    "    \n",
    "students"
   ]
  },
  {
   "cell_type": "code",
   "execution_count": null,
   "metadata": {},
   "outputs": [],
   "source": []
  }
 ],
 "metadata": {
  "kernelspec": {
   "display_name": "Python 3",
   "language": "python",
   "name": "python3"
  },
  "language_info": {
   "codemirror_mode": {
    "name": "ipython",
    "version": 3
   },
   "file_extension": ".py",
   "mimetype": "text/x-python",
   "name": "python",
   "nbconvert_exporter": "python",
   "pygments_lexer": "ipython3",
   "version": "3.12.0"
  }
 },
 "nbformat": 4,
 "nbformat_minor": 2
}
